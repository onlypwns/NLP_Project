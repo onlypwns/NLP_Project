{
 "cells": [
  {
   "cell_type": "markdown",
   "id": "06dfa9a5",
   "metadata": {
    "papermill": {
     "duration": 0.042007,
     "end_time": "2022-06-15T13:33:00.871406",
     "exception": false,
     "start_time": "2022-06-15T13:33:00.829399",
     "status": "completed"
    },
    "tags": []
   },
   "source": [
    "Reading with pandas"
   ]
  },
  {
   "cell_type": "code",
   "execution_count": 1,
   "id": "6f5ac69c",
   "metadata": {
    "execution": {
     "iopub.execute_input": "2022-06-15T13:33:00.957907Z",
     "iopub.status.busy": "2022-06-15T13:33:00.957203Z",
     "iopub.status.idle": "2022-06-15T13:33:01.186099Z",
     "shell.execute_reply": "2022-06-15T13:33:01.185192Z"
    },
    "papermill": {
     "duration": 0.277964,
     "end_time": "2022-06-15T13:33:01.188688",
     "exception": false,
     "start_time": "2022-06-15T13:33:00.910724",
     "status": "completed"
    },
    "tags": []
   },
   "outputs": [],
   "source": [
    "import pandas as pd\n",
    "data = pd.read_csv(\"../input/liberals-vs-conservatives-on-reddit-13000-posts/file_name.csv\")"
   ]
  },
  {
   "cell_type": "code",
   "execution_count": 2,
   "id": "546fde9d",
   "metadata": {
    "execution": {
     "iopub.execute_input": "2022-06-15T13:33:01.263516Z",
     "iopub.status.busy": "2022-06-15T13:33:01.263246Z",
     "iopub.status.idle": "2022-06-15T13:33:01.303895Z",
     "shell.execute_reply": "2022-06-15T13:33:01.303236Z"
    },
    "papermill": {
     "duration": 0.078371,
     "end_time": "2022-06-15T13:33:01.305795",
     "exception": false,
     "start_time": "2022-06-15T13:33:01.227424",
     "status": "completed"
    },
    "tags": []
   },
   "outputs": [
    {
     "data": {
      "text/html": [
       "<div>\n",
       "<style scoped>\n",
       "    .dataframe tbody tr th:only-of-type {\n",
       "        vertical-align: middle;\n",
       "    }\n",
       "\n",
       "    .dataframe tbody tr th {\n",
       "        vertical-align: top;\n",
       "    }\n",
       "\n",
       "    .dataframe thead th {\n",
       "        text-align: right;\n",
       "    }\n",
       "</style>\n",
       "<table border=\"1\" class=\"dataframe\">\n",
       "  <thead>\n",
       "    <tr style=\"text-align: right;\">\n",
       "      <th></th>\n",
       "      <th>Score</th>\n",
       "      <th>Num of Comments</th>\n",
       "      <th>Date Created</th>\n",
       "    </tr>\n",
       "  </thead>\n",
       "  <tbody>\n",
       "    <tr>\n",
       "      <th>count</th>\n",
       "      <td>12854.000000</td>\n",
       "      <td>12854.000000</td>\n",
       "      <td>1.285400e+04</td>\n",
       "    </tr>\n",
       "    <tr>\n",
       "      <th>mean</th>\n",
       "      <td>118.558270</td>\n",
       "      <td>19.055936</td>\n",
       "      <td>1.622576e+09</td>\n",
       "    </tr>\n",
       "    <tr>\n",
       "      <th>std</th>\n",
       "      <td>498.888034</td>\n",
       "      <td>60.381567</td>\n",
       "      <td>6.112838e+07</td>\n",
       "    </tr>\n",
       "    <tr>\n",
       "      <th>min</th>\n",
       "      <td>0.000000</td>\n",
       "      <td>0.000000</td>\n",
       "      <td>1.231048e+09</td>\n",
       "    </tr>\n",
       "    <tr>\n",
       "      <th>25%</th>\n",
       "      <td>3.000000</td>\n",
       "      <td>1.000000</td>\n",
       "      <td>1.632132e+09</td>\n",
       "    </tr>\n",
       "    <tr>\n",
       "      <th>50%</th>\n",
       "      <td>12.000000</td>\n",
       "      <td>3.000000</td>\n",
       "      <td>1.642030e+09</td>\n",
       "    </tr>\n",
       "    <tr>\n",
       "      <th>75%</th>\n",
       "      <td>65.000000</td>\n",
       "      <td>15.000000</td>\n",
       "      <td>1.645107e+09</td>\n",
       "    </tr>\n",
       "    <tr>\n",
       "      <th>max</th>\n",
       "      <td>25055.000000</td>\n",
       "      <td>2150.000000</td>\n",
       "      <td>1.646272e+09</td>\n",
       "    </tr>\n",
       "  </tbody>\n",
       "</table>\n",
       "</div>"
      ],
      "text/plain": [
       "              Score  Num of Comments  Date Created\n",
       "count  12854.000000     12854.000000  1.285400e+04\n",
       "mean     118.558270        19.055936  1.622576e+09\n",
       "std      498.888034        60.381567  6.112838e+07\n",
       "min        0.000000         0.000000  1.231048e+09\n",
       "25%        3.000000         1.000000  1.632132e+09\n",
       "50%       12.000000         3.000000  1.642030e+09\n",
       "75%       65.000000        15.000000  1.645107e+09\n",
       "max    25055.000000      2150.000000  1.646272e+09"
      ]
     },
     "execution_count": 2,
     "metadata": {},
     "output_type": "execute_result"
    }
   ],
   "source": [
    "data.describe()"
   ]
  },
  {
   "cell_type": "code",
   "execution_count": 3,
   "id": "333a70cf",
   "metadata": {
    "execution": {
     "iopub.execute_input": "2022-06-15T13:33:01.374348Z",
     "iopub.status.busy": "2022-06-15T13:33:01.373796Z",
     "iopub.status.idle": "2022-06-15T13:33:03.119646Z",
     "shell.execute_reply": "2022-06-15T13:33:03.118725Z"
    },
    "papermill": {
     "duration": 1.782524,
     "end_time": "2022-06-15T13:33:03.122559",
     "exception": false,
     "start_time": "2022-06-15T13:33:01.340035",
     "status": "completed"
    },
    "tags": []
   },
   "outputs": [],
   "source": [
    "# word tokenize each column of interest from the df\n",
    "import nltk\n",
    "from nltk import word_tokenize, sent_tokenize"
   ]
  },
  {
   "cell_type": "code",
   "execution_count": 4,
   "id": "69da1f8f",
   "metadata": {
    "execution": {
     "iopub.execute_input": "2022-06-15T13:33:03.191350Z",
     "iopub.status.busy": "2022-06-15T13:33:03.191031Z",
     "iopub.status.idle": "2022-06-15T13:33:03.199380Z",
     "shell.execute_reply": "2022-06-15T13:33:03.198643Z"
    },
    "papermill": {
     "duration": 0.045746,
     "end_time": "2022-06-15T13:33:03.201508",
     "exception": false,
     "start_time": "2022-06-15T13:33:03.155762",
     "status": "completed"
    },
    "scrolled": true,
    "tags": []
   },
   "outputs": [],
   "source": [
    "data['Date Created'] = pd.to_datetime(data['Date Created'],unit='s')"
   ]
  },
  {
   "cell_type": "code",
   "execution_count": 5,
   "id": "90b860cd",
   "metadata": {
    "execution": {
     "iopub.execute_input": "2022-06-15T13:33:03.271953Z",
     "iopub.status.busy": "2022-06-15T13:33:03.271667Z",
     "iopub.status.idle": "2022-06-15T13:33:03.293202Z",
     "shell.execute_reply": "2022-06-15T13:33:03.292053Z"
    },
    "papermill": {
     "duration": 0.060194,
     "end_time": "2022-06-15T13:33:03.295291",
     "exception": false,
     "start_time": "2022-06-15T13:33:03.235097",
     "status": "completed"
    },
    "scrolled": true,
    "tags": []
   },
   "outputs": [
    {
     "data": {
      "text/html": [
       "<div>\n",
       "<style scoped>\n",
       "    .dataframe tbody tr th:only-of-type {\n",
       "        vertical-align: middle;\n",
       "    }\n",
       "\n",
       "    .dataframe tbody tr th {\n",
       "        vertical-align: top;\n",
       "    }\n",
       "\n",
       "    .dataframe thead th {\n",
       "        text-align: right;\n",
       "    }\n",
       "</style>\n",
       "<table border=\"1\" class=\"dataframe\">\n",
       "  <thead>\n",
       "    <tr style=\"text-align: right;\">\n",
       "      <th></th>\n",
       "      <th>Title</th>\n",
       "      <th>Political Lean</th>\n",
       "      <th>Score</th>\n",
       "      <th>Id</th>\n",
       "      <th>Subreddit</th>\n",
       "      <th>URL</th>\n",
       "      <th>Num of Comments</th>\n",
       "      <th>Text</th>\n",
       "      <th>Date Created</th>\n",
       "    </tr>\n",
       "  </thead>\n",
       "  <tbody>\n",
       "    <tr>\n",
       "      <th>0</th>\n",
       "      <td>No matter who someone is, how they look like, ...</td>\n",
       "      <td>Liberal</td>\n",
       "      <td>1</td>\n",
       "      <td>t5fybt</td>\n",
       "      <td>socialism</td>\n",
       "      <td>https://v.redd.it/ng5fyl7hp2l81</td>\n",
       "      <td>0</td>\n",
       "      <td>NaN</td>\n",
       "      <td>2022-03-03 01:42:57</td>\n",
       "    </tr>\n",
       "    <tr>\n",
       "      <th>1</th>\n",
       "      <td>Biden speech draws 38.2 million U.S. TV viewers</td>\n",
       "      <td>Liberal</td>\n",
       "      <td>6</td>\n",
       "      <td>t5fqdn</td>\n",
       "      <td>democrats</td>\n",
       "      <td>https://www.reuters.com/world/us/biden-speech-...</td>\n",
       "      <td>1</td>\n",
       "      <td>NaN</td>\n",
       "      <td>2022-03-03 01:31:48</td>\n",
       "    </tr>\n",
       "    <tr>\n",
       "      <th>2</th>\n",
       "      <td>State of the union</td>\n",
       "      <td>Liberal</td>\n",
       "      <td>1</td>\n",
       "      <td>t5fj9a</td>\n",
       "      <td>DemocraticSocialism</td>\n",
       "      <td>https://www.reddit.com/r/DemocraticSocialism/c...</td>\n",
       "      <td>1</td>\n",
       "      <td>Who watched the state of the union last night ...</td>\n",
       "      <td>2022-03-03 01:21:28</td>\n",
       "    </tr>\n",
       "    <tr>\n",
       "      <th>3</th>\n",
       "      <td>We Should Just Give Poor People Money</td>\n",
       "      <td>Liberal</td>\n",
       "      <td>7</td>\n",
       "      <td>t5f7n9</td>\n",
       "      <td>SocialDemocracy</td>\n",
       "      <td>https://youtu.be/a80kRjpubG0</td>\n",
       "      <td>3</td>\n",
       "      <td>NaN</td>\n",
       "      <td>2022-03-03 01:05:08</td>\n",
       "    </tr>\n",
       "    <tr>\n",
       "      <th>4</th>\n",
       "      <td>Do it for the Dew</td>\n",
       "      <td>Liberal</td>\n",
       "      <td>6</td>\n",
       "      <td>t5es2c</td>\n",
       "      <td>democrats</td>\n",
       "      <td>https://i.redd.it/drmunn90f2l81.jpg</td>\n",
       "      <td>1</td>\n",
       "      <td>NaN</td>\n",
       "      <td>2022-03-03 00:43:03</td>\n",
       "    </tr>\n",
       "    <tr>\n",
       "      <th>...</th>\n",
       "      <td>...</td>\n",
       "      <td>...</td>\n",
       "      <td>...</td>\n",
       "      <td>...</td>\n",
       "      <td>...</td>\n",
       "      <td>...</td>\n",
       "      <td>...</td>\n",
       "      <td>...</td>\n",
       "      <td>...</td>\n",
       "    </tr>\n",
       "    <tr>\n",
       "      <th>12849</th>\n",
       "      <td>Ron Paul’s Spirited Defense of WikiLeaks &amp; Fre...</td>\n",
       "      <td>Conservative</td>\n",
       "      <td>2</td>\n",
       "      <td>em7rm</td>\n",
       "      <td>anarchocapitalism</td>\n",
       "      <td>http://www.deathandtaxesmag.com/40485/ron-paul...</td>\n",
       "      <td>1</td>\n",
       "      <td>NaN</td>\n",
       "      <td>2010-12-15 13:54:29</td>\n",
       "    </tr>\n",
       "    <tr>\n",
       "      <th>12850</th>\n",
       "      <td>“Anarcho-capitalism, in my opinion, is a doctr...</td>\n",
       "      <td>Conservative</td>\n",
       "      <td>2</td>\n",
       "      <td>ei98o</td>\n",
       "      <td>anarchocapitalism</td>\n",
       "      <td>http://www.pressaction.com/news/weblog/full_ar...</td>\n",
       "      <td>1</td>\n",
       "      <td>NaN</td>\n",
       "      <td>2010-12-08 12:53:14</td>\n",
       "    </tr>\n",
       "    <tr>\n",
       "      <th>12851</th>\n",
       "      <td>Mises Wiki is a wiki project dedicated to the ...</td>\n",
       "      <td>Conservative</td>\n",
       "      <td>2</td>\n",
       "      <td>e6x22</td>\n",
       "      <td>anarchocapitalism</td>\n",
       "      <td>http://wiki.mises.org/wiki/Main_Page</td>\n",
       "      <td>0</td>\n",
       "      <td>NaN</td>\n",
       "      <td>2010-11-16 12:17:27</td>\n",
       "    </tr>\n",
       "    <tr>\n",
       "      <th>12852</th>\n",
       "      <td>Fireman Protection Monopoly - Is This Failed C...</td>\n",
       "      <td>Conservative</td>\n",
       "      <td>2</td>\n",
       "      <td>e4vtd</td>\n",
       "      <td>anarchocapitalism</td>\n",
       "      <td>http://www.csmonitor.com/Business/Mises-Econom...</td>\n",
       "      <td>0</td>\n",
       "      <td>NaN</td>\n",
       "      <td>2010-11-12 01:00:34</td>\n",
       "    </tr>\n",
       "    <tr>\n",
       "      <th>12853</th>\n",
       "      <td>Can this Wikipedia Article be Better Written?</td>\n",
       "      <td>Conservative</td>\n",
       "      <td>2</td>\n",
       "      <td>e00j6</td>\n",
       "      <td>anarchocapitalism</td>\n",
       "      <td>https://www.reddit.com/r/anarchocapitalism/com...</td>\n",
       "      <td>0</td>\n",
       "      <td>I go to the mises.org and listen to the writin...</td>\n",
       "      <td>2010-11-02 12:49:10</td>\n",
       "    </tr>\n",
       "  </tbody>\n",
       "</table>\n",
       "<p>12854 rows × 9 columns</p>\n",
       "</div>"
      ],
      "text/plain": [
       "                                                   Title Political Lean  \\\n",
       "0      No matter who someone is, how they look like, ...        Liberal   \n",
       "1        Biden speech draws 38.2 million U.S. TV viewers        Liberal   \n",
       "2                                     State of the union        Liberal   \n",
       "3                  We Should Just Give Poor People Money        Liberal   \n",
       "4                                      Do it for the Dew        Liberal   \n",
       "...                                                  ...            ...   \n",
       "12849  Ron Paul’s Spirited Defense of WikiLeaks & Fre...   Conservative   \n",
       "12850  “Anarcho-capitalism, in my opinion, is a doctr...   Conservative   \n",
       "12851  Mises Wiki is a wiki project dedicated to the ...   Conservative   \n",
       "12852  Fireman Protection Monopoly - Is This Failed C...   Conservative   \n",
       "12853      Can this Wikipedia Article be Better Written?   Conservative   \n",
       "\n",
       "       Score      Id            Subreddit  \\\n",
       "0          1  t5fybt            socialism   \n",
       "1          6  t5fqdn            democrats   \n",
       "2          1  t5fj9a  DemocraticSocialism   \n",
       "3          7  t5f7n9      SocialDemocracy   \n",
       "4          6  t5es2c            democrats   \n",
       "...      ...     ...                  ...   \n",
       "12849      2   em7rm    anarchocapitalism   \n",
       "12850      2   ei98o    anarchocapitalism   \n",
       "12851      2   e6x22    anarchocapitalism   \n",
       "12852      2   e4vtd    anarchocapitalism   \n",
       "12853      2   e00j6    anarchocapitalism   \n",
       "\n",
       "                                                     URL  Num of Comments  \\\n",
       "0                        https://v.redd.it/ng5fyl7hp2l81                0   \n",
       "1      https://www.reuters.com/world/us/biden-speech-...                1   \n",
       "2      https://www.reddit.com/r/DemocraticSocialism/c...                1   \n",
       "3                           https://youtu.be/a80kRjpubG0                3   \n",
       "4                    https://i.redd.it/drmunn90f2l81.jpg                1   \n",
       "...                                                  ...              ...   \n",
       "12849  http://www.deathandtaxesmag.com/40485/ron-paul...                1   \n",
       "12850  http://www.pressaction.com/news/weblog/full_ar...                1   \n",
       "12851               http://wiki.mises.org/wiki/Main_Page                0   \n",
       "12852  http://www.csmonitor.com/Business/Mises-Econom...                0   \n",
       "12853  https://www.reddit.com/r/anarchocapitalism/com...                0   \n",
       "\n",
       "                                                    Text        Date Created  \n",
       "0                                                    NaN 2022-03-03 01:42:57  \n",
       "1                                                    NaN 2022-03-03 01:31:48  \n",
       "2      Who watched the state of the union last night ... 2022-03-03 01:21:28  \n",
       "3                                                    NaN 2022-03-03 01:05:08  \n",
       "4                                                    NaN 2022-03-03 00:43:03  \n",
       "...                                                  ...                 ...  \n",
       "12849                                                NaN 2010-12-15 13:54:29  \n",
       "12850                                                NaN 2010-12-08 12:53:14  \n",
       "12851                                                NaN 2010-11-16 12:17:27  \n",
       "12852                                                NaN 2010-11-12 01:00:34  \n",
       "12853  I go to the mises.org and listen to the writin... 2010-11-02 12:49:10  \n",
       "\n",
       "[12854 rows x 9 columns]"
      ]
     },
     "execution_count": 5,
     "metadata": {},
     "output_type": "execute_result"
    }
   ],
   "source": [
    "data"
   ]
  },
  {
   "cell_type": "code",
   "execution_count": 6,
   "id": "7ef2a162",
   "metadata": {
    "execution": {
     "iopub.execute_input": "2022-06-15T13:33:03.366307Z",
     "iopub.status.busy": "2022-06-15T13:33:03.365869Z",
     "iopub.status.idle": "2022-06-15T13:33:03.373620Z",
     "shell.execute_reply": "2022-06-15T13:33:03.372996Z"
    },
    "papermill": {
     "duration": 0.046877,
     "end_time": "2022-06-15T13:33:03.375548",
     "exception": false,
     "start_time": "2022-06-15T13:33:03.328671",
     "status": "completed"
    },
    "tags": []
   },
   "outputs": [
    {
     "data": {
      "text/plain": [
       "Political Lean\n",
       "Conservative    4535\n",
       "Liberal         8319\n",
       "dtype: int64"
      ]
     },
     "execution_count": 6,
     "metadata": {},
     "output_type": "execute_result"
    }
   ],
   "source": [
    "data.groupby(['Political Lean']).size()"
   ]
  },
  {
   "cell_type": "code",
   "execution_count": 7,
   "id": "60e3cd99",
   "metadata": {
    "execution": {
     "iopub.execute_input": "2022-06-15T13:33:03.446524Z",
     "iopub.status.busy": "2022-06-15T13:33:03.446125Z",
     "iopub.status.idle": "2022-06-15T13:33:03.453742Z",
     "shell.execute_reply": "2022-06-15T13:33:03.452876Z"
    },
    "papermill": {
     "duration": 0.044103,
     "end_time": "2022-06-15T13:33:03.455531",
     "exception": false,
     "start_time": "2022-06-15T13:33:03.411428",
     "status": "completed"
    },
    "scrolled": true,
    "tags": []
   },
   "outputs": [
    {
     "data": {
      "text/plain": [
       "Subreddit\n",
       "Capitalism              975\n",
       "Communist               574\n",
       "DemocraticSocialism     922\n",
       "Liberal                 904\n",
       "Libertarian             975\n",
       "RadicalFeminism         100\n",
       "SocialDemocracy         997\n",
       "alltheleft              997\n",
       "anarchocapitalism       637\n",
       "conservatives          1000\n",
       "democrats               941\n",
       "feminisms               935\n",
       "progressive             974\n",
       "republicans             948\n",
       "socialism               975\n",
       "dtype: int64"
      ]
     },
     "execution_count": 7,
     "metadata": {},
     "output_type": "execute_result"
    }
   ],
   "source": [
    "data.groupby(['Subreddit']).size()"
   ]
  },
  {
   "cell_type": "code",
   "execution_count": 8,
   "id": "067d498a",
   "metadata": {
    "execution": {
     "iopub.execute_input": "2022-06-15T13:33:03.526560Z",
     "iopub.status.busy": "2022-06-15T13:33:03.526078Z",
     "iopub.status.idle": "2022-06-15T13:33:03.536514Z",
     "shell.execute_reply": "2022-06-15T13:33:03.535921Z"
    },
    "papermill": {
     "duration": 0.049385,
     "end_time": "2022-06-15T13:33:03.538517",
     "exception": false,
     "start_time": "2022-06-15T13:33:03.489132",
     "status": "completed"
    },
    "tags": []
   },
   "outputs": [
    {
     "data": {
      "text/plain": [
       "Subreddit\n",
       "Communist              574\n",
       "DemocraticSocialism    922\n",
       "Liberal                904\n",
       "RadicalFeminism        100\n",
       "SocialDemocracy        997\n",
       "alltheleft             997\n",
       "democrats              941\n",
       "feminisms              935\n",
       "progressive            974\n",
       "socialism              975\n",
       "dtype: int64"
      ]
     },
     "execution_count": 8,
     "metadata": {},
     "output_type": "execute_result"
    }
   ],
   "source": [
    "liberal_df = data[data['Political Lean'] == 'Liberal']\n",
    "liberal_df.groupby('Subreddit').size()\n",
    "#print(len(liberal_data))"
   ]
  },
  {
   "cell_type": "code",
   "execution_count": 9,
   "id": "bfc54571",
   "metadata": {
    "execution": {
     "iopub.execute_input": "2022-06-15T13:33:03.609964Z",
     "iopub.status.busy": "2022-06-15T13:33:03.609236Z",
     "iopub.status.idle": "2022-06-15T13:33:03.621479Z",
     "shell.execute_reply": "2022-06-15T13:33:03.620913Z"
    },
    "papermill": {
     "duration": 0.049393,
     "end_time": "2022-06-15T13:33:03.623206",
     "exception": false,
     "start_time": "2022-06-15T13:33:03.573813",
     "status": "completed"
    },
    "tags": []
   },
   "outputs": [
    {
     "data": {
      "text/plain": [
       "Subreddit\n",
       "Capitalism            975\n",
       "Libertarian           975\n",
       "anarchocapitalism     637\n",
       "conservatives        1000\n",
       "republicans           948\n",
       "dtype: int64"
      ]
     },
     "execution_count": 9,
     "metadata": {},
     "output_type": "execute_result"
    }
   ],
   "source": [
    "conservative_df = data[data['Political Lean'] == 'Conservative']\n",
    "conservative_df.groupby('Subreddit').size()"
   ]
  },
  {
   "cell_type": "code",
   "execution_count": 10,
   "id": "a44b6460",
   "metadata": {
    "execution": {
     "iopub.execute_input": "2022-06-15T13:33:03.693465Z",
     "iopub.status.busy": "2022-06-15T13:33:03.692947Z",
     "iopub.status.idle": "2022-06-15T13:33:03.703927Z",
     "shell.execute_reply": "2022-06-15T13:33:03.703208Z"
    },
    "papermill": {
     "duration": 0.048288,
     "end_time": "2022-06-15T13:33:03.705726",
     "exception": false,
     "start_time": "2022-06-15T13:33:03.657438",
     "status": "completed"
    },
    "scrolled": true,
    "tags": []
   },
   "outputs": [
    {
     "data": {
      "text/plain": [
       "2       Who watched the state of the union last night ...\n",
       "11      I have fallen for this trap several times and ...\n",
       "20      One of the things I have noticed in todays wor...\n",
       "42      [https://kites-journal.org/2022/03/01/between-...\n",
       "54      ***\"Axe tax\"*** aka ***\"Hammer tax\"*** aka ***...\n",
       "                              ...                        \n",
       "8159    http://www.facebook.com/event.php?eid=27851760...\n",
       "8187                                     just wonderin :p\n",
       "8213    Ok to start off I'm not communist, I'm liberta...\n",
       "8250    Please forward\\n\\n \\n\\nCCR EXPLAINS HLP v. HOL...\n",
       "8280    I think a little materialist analysis on the c...\n",
       "Name: Text, Length: 1471, dtype: object"
      ]
     },
     "execution_count": 10,
     "metadata": {},
     "output_type": "execute_result"
    }
   ],
   "source": [
    "# word tokenize liberal text\n",
    "\n",
    "from nltk import word_tokenize, sent_tokenize\n",
    "liberal_data = data[data['Political Lean'] == 'Liberal']\n",
    "test = liberal_data['Text']\n",
    "test = test.dropna()\n",
    "test"
   ]
  },
  {
   "cell_type": "code",
   "execution_count": 11,
   "id": "8e8ed73d",
   "metadata": {
    "execution": {
     "iopub.execute_input": "2022-06-15T13:33:03.775759Z",
     "iopub.status.busy": "2022-06-15T13:33:03.775244Z",
     "iopub.status.idle": "2022-06-15T13:33:03.789540Z",
     "shell.execute_reply": "2022-06-15T13:33:03.788868Z"
    },
    "papermill": {
     "duration": 0.051913,
     "end_time": "2022-06-15T13:33:03.791605",
     "exception": false,
     "start_time": "2022-06-15T13:33:03.739692",
     "status": "completed"
    },
    "tags": []
   },
   "outputs": [],
   "source": [
    "t_lib = \" \"\n",
    "for text in test:     # convert from column texts to string\n",
    "    t_lib+=str(text)"
   ]
  },
  {
   "cell_type": "code",
   "execution_count": 12,
   "id": "872f2865",
   "metadata": {
    "execution": {
     "iopub.execute_input": "2022-06-15T13:33:03.861867Z",
     "iopub.status.busy": "2022-06-15T13:33:03.861325Z",
     "iopub.status.idle": "2022-06-15T13:33:03.883995Z",
     "shell.execute_reply": "2022-06-15T13:33:03.883287Z"
    },
    "papermill": {
     "duration": 0.060443,
     "end_time": "2022-06-15T13:33:03.886152",
     "exception": false,
     "start_time": "2022-06-15T13:33:03.825709",
     "status": "completed"
    },
    "tags": []
   },
   "outputs": [],
   "source": [
    "t_lib = t_lib.lower()"
   ]
  },
  {
   "cell_type": "code",
   "execution_count": 13,
   "id": "ffb783d6",
   "metadata": {
    "execution": {
     "iopub.execute_input": "2022-06-15T13:33:03.957210Z",
     "iopub.status.busy": "2022-06-15T13:33:03.956694Z",
     "iopub.status.idle": "2022-06-15T13:33:04.018754Z",
     "shell.execute_reply": "2022-06-15T13:33:04.018167Z"
    },
    "papermill": {
     "duration": 0.100106,
     "end_time": "2022-06-15T13:33:04.021038",
     "exception": false,
     "start_time": "2022-06-15T13:33:03.920932",
     "status": "completed"
    },
    "tags": []
   },
   "outputs": [],
   "source": [
    "import re\n",
    "t_lib = re.sub(r'\\d+', '', t_lib)"
   ]
  },
  {
   "cell_type": "code",
   "execution_count": 14,
   "id": "f3980a46",
   "metadata": {
    "execution": {
     "iopub.execute_input": "2022-06-15T13:33:04.093500Z",
     "iopub.status.busy": "2022-06-15T13:33:04.092996Z",
     "iopub.status.idle": "2022-06-15T13:33:04.268589Z",
     "shell.execute_reply": "2022-06-15T13:33:04.267639Z"
    },
    "papermill": {
     "duration": 0.214232,
     "end_time": "2022-06-15T13:33:04.270928",
     "exception": false,
     "start_time": "2022-06-15T13:33:04.056696",
     "status": "completed"
    },
    "tags": []
   },
   "outputs": [],
   "source": [
    "import string\n",
    "t_lib = t_lib.translate(str.maketrans(\"\",\"\", string.punctuation))"
   ]
  },
  {
   "cell_type": "code",
   "execution_count": 15,
   "id": "dcb48024",
   "metadata": {
    "execution": {
     "iopub.execute_input": "2022-06-15T13:33:04.341606Z",
     "iopub.status.busy": "2022-06-15T13:33:04.341310Z",
     "iopub.status.idle": "2022-06-15T13:33:05.782137Z",
     "shell.execute_reply": "2022-06-15T13:33:05.780959Z"
    },
    "papermill": {
     "duration": 1.479472,
     "end_time": "2022-06-15T13:33:05.784633",
     "exception": false,
     "start_time": "2022-06-15T13:33:04.305161",
     "status": "completed"
    },
    "tags": []
   },
   "outputs": [],
   "source": [
    "tok = word_tokenize(t_lib)"
   ]
  },
  {
   "cell_type": "code",
   "execution_count": 16,
   "id": "7cb281e3",
   "metadata": {
    "execution": {
     "iopub.execute_input": "2022-06-15T13:33:05.858217Z",
     "iopub.status.busy": "2022-06-15T13:33:05.857660Z",
     "iopub.status.idle": "2022-06-15T13:33:07.737966Z",
     "shell.execute_reply": "2022-06-15T13:33:07.737060Z"
    },
    "papermill": {
     "duration": 1.919053,
     "end_time": "2022-06-15T13:33:07.740257",
     "exception": false,
     "start_time": "2022-06-15T13:33:05.821204",
     "status": "completed"
    },
    "tags": []
   },
   "outputs": [],
   "source": [
    "from nltk.corpus import stopwords\n",
    "stop_words = stopwords.words('english')\n",
    "# add more words to stopwords\n",
    "my_words=['th','would', 'https', '’', '”', '“', '’']\n",
    "stop_words.extend(my_words)\n",
    "tok = word_tokenize(t_lib)\n",
    "result = [i for i in tok if not i in stop_words]"
   ]
  },
  {
   "cell_type": "code",
   "execution_count": 17,
   "id": "6894e88f",
   "metadata": {
    "execution": {
     "iopub.execute_input": "2022-06-15T13:33:07.810970Z",
     "iopub.status.busy": "2022-06-15T13:33:07.810408Z",
     "iopub.status.idle": "2022-06-15T13:33:07.923319Z",
     "shell.execute_reply": "2022-06-15T13:33:07.922432Z"
    },
    "papermill": {
     "duration": 0.150189,
     "end_time": "2022-06-15T13:33:07.925647",
     "exception": false,
     "start_time": "2022-06-15T13:33:07.775458",
     "status": "completed"
    },
    "tags": []
   },
   "outputs": [
    {
     "data": {
      "text/plain": [
       "[('people', 1154),\n",
       " ('like', 965),\n",
       " ('one', 706),\n",
       " ('us', 664),\n",
       " ('social', 624),\n",
       " ('party', 594),\n",
       " ('workers', 566),\n",
       " ('also', 555),\n",
       " ('think', 507),\n",
       " ('even', 484)]"
      ]
     },
     "execution_count": 17,
     "metadata": {},
     "output_type": "execute_result"
    }
   ],
   "source": [
    "from nltk.probability import FreqDist\n",
    "fdist = FreqDist(result)\n",
    "fdist = fdist.most_common(10)\n",
    "fdist"
   ]
  },
  {
   "cell_type": "code",
   "execution_count": 18,
   "id": "dc232adc",
   "metadata": {
    "execution": {
     "iopub.execute_input": "2022-06-15T13:33:07.997453Z",
     "iopub.status.busy": "2022-06-15T13:33:07.996985Z",
     "iopub.status.idle": "2022-06-15T13:33:09.712503Z",
     "shell.execute_reply": "2022-06-15T13:33:09.711662Z"
    },
    "papermill": {
     "duration": 1.753313,
     "end_time": "2022-06-15T13:33:09.714596",
     "exception": false,
     "start_time": "2022-06-15T13:33:07.961283",
     "status": "completed"
    },
    "tags": []
   },
   "outputs": [
    {
     "data": {
      "text/plain": [
       "FreqDist({'would': 1060, 'their': 1047, 'about': 1005, 'which': 741, 'there': 680, 'other': 600, 'party': 594, 'these': 516, 'think': 507, 'being': 434, ...})"
      ]
     },
     "execution_count": 18,
     "metadata": {},
     "output_type": "execute_result"
    }
   ],
   "source": [
    "from nltk.probability import ConditionalFreqDist\n",
    "cfdist = ConditionalFreqDist()\n",
    "\n",
    "for word in word_tokenize(t_lib): \n",
    "    condition = len(word)\n",
    "    cfdist[condition][word] += 1\n",
    "cfdist[5]"
   ]
  },
  {
   "cell_type": "code",
   "execution_count": 19,
   "id": "aaa72840",
   "metadata": {
    "execution": {
     "iopub.execute_input": "2022-06-15T13:33:09.786677Z",
     "iopub.status.busy": "2022-06-15T13:33:09.786379Z",
     "iopub.status.idle": "2022-06-15T13:33:11.703519Z",
     "shell.execute_reply": "2022-06-15T13:33:11.702630Z"
    },
    "papermill": {
     "duration": 1.954934,
     "end_time": "2022-06-15T13:33:11.705443",
     "exception": false,
     "start_time": "2022-06-15T13:33:09.750509",
     "status": "completed"
    },
    "tags": []
   },
   "outputs": [
    {
     "name": "stdout",
     "output_type": "stream",
     "text": [
      "0.0890375085745266\n"
     ]
    }
   ],
   "source": [
    "from textblob import TextBlob\n",
    "tb = TextBlob(t_lib)\n",
    "print(tb.sentiment.polarity)"
   ]
  },
  {
   "cell_type": "code",
   "execution_count": 20,
   "id": "96cb038b",
   "metadata": {
    "execution": {
     "iopub.execute_input": "2022-06-15T13:33:11.781141Z",
     "iopub.status.busy": "2022-06-15T13:33:11.780664Z",
     "iopub.status.idle": "2022-06-15T13:33:11.972955Z",
     "shell.execute_reply": "2022-06-15T13:33:11.971933Z"
    },
    "papermill": {
     "duration": 0.232399,
     "end_time": "2022-06-15T13:33:11.975047",
     "exception": false,
     "start_time": "2022-06-15T13:33:11.742648",
     "status": "completed"
    },
    "tags": []
   },
   "outputs": [
    {
     "data": {
      "text/plain": [
       "FreqDist({'us': 664, 'im': 372, 'go': 195, 'xb': 184, 'id': 95, 'eu': 62, 'uk': 50, '•b': 41, 'ie': 40, 'na': 38, ...})"
      ]
     },
     "execution_count": 20,
     "metadata": {},
     "output_type": "execute_result"
    }
   ],
   "source": [
    "from nltk.probability import ConditionalFreqDist\n",
    "from nltk.tokenize import word_tokenize\n",
    "cfdist = ConditionalFreqDist()\n",
    "\n",
    "for word in result: \n",
    "    condition = len(word)\n",
    "    cfdist[condition][word] += 1\n",
    "cfdist[2]"
   ]
  },
  {
   "cell_type": "code",
   "execution_count": 21,
   "id": "a9c78d3f",
   "metadata": {
    "execution": {
     "iopub.execute_input": "2022-06-15T13:33:12.049642Z",
     "iopub.status.busy": "2022-06-15T13:33:12.049347Z",
     "iopub.status.idle": "2022-06-15T13:33:12.253010Z",
     "shell.execute_reply": "2022-06-15T13:33:12.251882Z"
    },
    "papermill": {
     "duration": 0.243743,
     "end_time": "2022-06-15T13:33:12.255284",
     "exception": false,
     "start_time": "2022-06-15T13:33:12.011541",
     "status": "completed"
    },
    "tags": []
   },
   "outputs": [
    {
     "data": {
      "text/plain": [
       "[(('working', 'class'), 161),\n",
       " (('social', 'democracy'), 132),\n",
       " (('social', 'democratic'), 86),\n",
       " (('united', 'states'), 86),\n",
       " (('social', 'democrats'), 70),\n",
       " (('soviet', 'union'), 62),\n",
       " (('democratic', 'party'), 50),\n",
       " (('means', 'production'), 48),\n",
       " (('feel', 'like'), 48),\n",
       " (('many', 'people'), 47)]"
      ]
     },
     "execution_count": 21,
     "metadata": {},
     "output_type": "execute_result"
    }
   ],
   "source": [
    "bgs = nltk.bigrams(result)\n",
    "fdist_bgs = nltk.FreqDist(bgs)\n",
    "fdist_bgs.most_common(10)"
   ]
  },
  {
   "cell_type": "code",
   "execution_count": 22,
   "id": "4e0d1cc3",
   "metadata": {
    "execution": {
     "iopub.execute_input": "2022-06-15T13:33:12.329562Z",
     "iopub.status.busy": "2022-06-15T13:33:12.329276Z",
     "iopub.status.idle": "2022-06-15T13:33:21.389283Z",
     "shell.execute_reply": "2022-06-15T13:33:21.388575Z"
    },
    "papermill": {
     "duration": 9.099284,
     "end_time": "2022-06-15T13:33:21.391520",
     "exception": false,
     "start_time": "2022-06-15T13:33:12.292236",
     "status": "completed"
    },
    "tags": []
   },
   "outputs": [],
   "source": [
    "# parts of speech\n",
    "tagged = nltk.pos_tag(result)"
   ]
  },
  {
   "cell_type": "code",
   "execution_count": 23,
   "id": "e10bf2c7",
   "metadata": {
    "execution": {
     "iopub.execute_input": "2022-06-15T13:33:21.464934Z",
     "iopub.status.busy": "2022-06-15T13:33:21.464655Z",
     "iopub.status.idle": "2022-06-15T13:33:21.605777Z",
     "shell.execute_reply": "2022-06-15T13:33:21.604930Z"
    },
    "papermill": {
     "duration": 0.180508,
     "end_time": "2022-06-15T13:33:21.607893",
     "exception": false,
     "start_time": "2022-06-15T13:33:21.427385",
     "status": "completed"
    },
    "tags": []
   },
   "outputs": [
    {
     "data": {
      "text/plain": [
       "[(('people', 'NNS'), 1154),\n",
       " (('like', 'IN'), 949),\n",
       " (('one', 'CD'), 706),\n",
       " (('us', 'PRP'), 664),\n",
       " (('social', 'JJ'), 624),\n",
       " (('party', 'NN'), 594),\n",
       " (('workers', 'NNS'), 566),\n",
       " (('also', 'RB'), 555),\n",
       " (('even', 'RB'), 483),\n",
       " (('government', 'NN'), 451),\n",
       " (('time', 'NN'), 448),\n",
       " (('think', 'VBP'), 423),\n",
       " (('state', 'NN'), 419),\n",
       " (('many', 'JJ'), 415),\n",
       " (('new', 'JJ'), 397)]"
      ]
     },
     "execution_count": 23,
     "metadata": {},
     "output_type": "execute_result"
    }
   ],
   "source": [
    "# distribution of parts of speech\n",
    "fdis = FreqDist(tagged)\n",
    "fdis = fdis.most_common(15)\n",
    "fdis"
   ]
  },
  {
   "cell_type": "code",
   "execution_count": 24,
   "id": "d1943fb1",
   "metadata": {
    "execution": {
     "iopub.execute_input": "2022-06-15T13:33:21.681384Z",
     "iopub.status.busy": "2022-06-15T13:33:21.681133Z",
     "iopub.status.idle": "2022-06-15T13:33:21.887711Z",
     "shell.execute_reply": "2022-06-15T13:33:21.886738Z"
    },
    "papermill": {
     "duration": 0.245996,
     "end_time": "2022-06-15T13:33:21.889725",
     "exception": false,
     "start_time": "2022-06-15T13:33:21.643729",
     "status": "completed"
    },
    "scrolled": true,
    "tags": []
   },
   "outputs": [
    {
     "data": {
      "text/plain": [
       "[(('tries', 'leave', 'russiancolonialism'), 25),\n",
       " (('free', 'discuss', 'whatever'), 20),\n",
       " (('discuss', 'whatever', 'please'), 20),\n",
       " (('whatever', 'please', 'socdem'), 20),\n",
       " (('please', 'socdem', 'related'), 20),\n",
       " (('socdem', 'related', 'entirely'), 20),\n",
       " (('related', 'entirely', 'unrelated'), 20),\n",
       " (('entirely', 'unrelated', 'whatever'), 20),\n",
       " (('unrelated', 'whatever', 'youd'), 20),\n",
       " (('leave', 'russiancolonialism', 'moscow'), 15),\n",
       " (('social', 'democratic', 'party'), 15),\n",
       " (('world', 'war', 'ii'), 15),\n",
       " (('social', 'democratic', 'parties'), 11),\n",
       " (('ownership', 'means', 'production'), 11),\n",
       " (('new', 'york', 'times'), 10)]"
      ]
     },
     "execution_count": 24,
     "metadata": {},
     "output_type": "execute_result"
    }
   ],
   "source": [
    "trig = nltk.trigrams(result)\n",
    "fdistr = nltk.FreqDist(trig)\n",
    "fdistr.most_common(15)"
   ]
  },
  {
   "cell_type": "code",
   "execution_count": 25,
   "id": "52433b95",
   "metadata": {
    "execution": {
     "iopub.execute_input": "2022-06-15T13:33:21.963967Z",
     "iopub.status.busy": "2022-06-15T13:33:21.963681Z",
     "iopub.status.idle": "2022-06-15T13:33:22.070019Z",
     "shell.execute_reply": "2022-06-15T13:33:22.069026Z"
    },
    "papermill": {
     "duration": 0.145714,
     "end_time": "2022-06-15T13:33:22.071756",
     "exception": false,
     "start_time": "2022-06-15T13:33:21.926042",
     "status": "completed"
    },
    "tags": []
   },
   "outputs": [
    {
     "data": {
      "text/plain": [
       "[('NN', 52830),\n",
       " ('JJ', 32962),\n",
       " ('NNS', 21159),\n",
       " ('RB', 10640),\n",
       " ('VBP', 9780),\n",
       " ('VBG', 7139),\n",
       " ('VBD', 6844),\n",
       " ('VBN', 3879),\n",
       " ('IN', 3171),\n",
       " ('VBZ', 3025),\n",
       " ('VB', 3021),\n",
       " ('CD', 1210),\n",
       " ('MD', 909),\n",
       " ('JJR', 695),\n",
       " ('PRP', 683),\n",
       " ('NNP', 504),\n",
       " ('JJS', 451),\n",
       " ('DT', 435),\n",
       " ('RBR', 400),\n",
       " ('FW', 218)]"
      ]
     },
     "execution_count": 25,
     "metadata": {},
     "output_type": "execute_result"
    }
   ],
   "source": [
    "tag_fd = nltk.FreqDist(tag for (word, tag) in tagged)\n",
    "tag_fd.most_common(20)"
   ]
  },
  {
   "cell_type": "code",
   "execution_count": 26,
   "id": "8ac46fe6",
   "metadata": {
    "execution": {
     "iopub.execute_input": "2022-06-15T13:33:22.150646Z",
     "iopub.status.busy": "2022-06-15T13:33:22.150361Z",
     "iopub.status.idle": "2022-06-15T13:33:22.349042Z",
     "shell.execute_reply": "2022-06-15T13:33:22.348110Z"
    },
    "papermill": {
     "duration": 0.240229,
     "end_time": "2022-06-15T13:33:22.351282",
     "exception": false,
     "start_time": "2022-06-15T13:33:22.111053",
     "status": "completed"
    },
    "tags": []
   },
   "outputs": [
    {
     "data": {
      "text/plain": [
       "58"
      ]
     },
     "execution_count": 26,
     "metadata": {},
     "output_type": "execute_result"
    }
   ],
   "source": [
    "# liberals mentioning specific words\n",
    "\n",
    "fdist_w = FreqDist(tok)\n",
    "vocab = fdist_w.keys()\n",
    "fdist_w['biden']"
   ]
  },
  {
   "cell_type": "markdown",
   "id": "b684cdfe",
   "metadata": {
    "papermill": {
     "duration": 0.036178,
     "end_time": "2022-06-15T13:33:22.425454",
     "exception": false,
     "start_time": "2022-06-15T13:33:22.389276",
     "status": "completed"
    },
    "tags": []
   },
   "source": [
    "END OF LIB PREPROCESSING"
   ]
  },
  {
   "cell_type": "code",
   "execution_count": 27,
   "id": "5e806df3",
   "metadata": {
    "execution": {
     "iopub.execute_input": "2022-06-15T13:33:22.508070Z",
     "iopub.status.busy": "2022-06-15T13:33:22.507772Z",
     "iopub.status.idle": "2022-06-15T13:33:22.520348Z",
     "shell.execute_reply": "2022-06-15T13:33:22.519392Z"
    },
    "papermill": {
     "duration": 0.059289,
     "end_time": "2022-06-15T13:33:22.522527",
     "exception": false,
     "start_time": "2022-06-15T13:33:22.463238",
     "status": "completed"
    },
    "tags": []
   },
   "outputs": [
    {
     "data": {
      "text/plain": [
       "8328     Socialism  is a redistribution system not a we...\n",
       "8344     1) After informing Derek about his sore stomac...\n",
       "8345     What are folks thinking.\\n\\nI was *impressed* ...\n",
       "8357                                               Curious\n",
       "8359                             Holy shit. We’re screwed.\n",
       "                               ...                        \n",
       "12829    \"Well now, which is the longest river in Afric...\n",
       "12837    Let's say there are private courts/resolution ...\n",
       "12838    Basically, the above. It can be a very effecti...\n",
       "12842    Last week I would've considered myself a liber...\n",
       "12853    I go to the mises.org and listen to the writin...\n",
       "Name: Text, Length: 957, dtype: object"
      ]
     },
     "execution_count": 27,
     "metadata": {},
     "output_type": "execute_result"
    }
   ],
   "source": [
    "# word tokenize conservative text\n",
    "conservative_data = data[data['Political Lean'] == 'Conservative']\n",
    "test = conservative_data['Text']\n",
    "test3 = test.dropna()\n",
    "test3"
   ]
  },
  {
   "cell_type": "code",
   "execution_count": 28,
   "id": "380ef5b3",
   "metadata": {
    "execution": {
     "iopub.execute_input": "2022-06-15T13:33:22.606678Z",
     "iopub.status.busy": "2022-06-15T13:33:22.606417Z",
     "iopub.status.idle": "2022-06-15T13:33:22.610152Z",
     "shell.execute_reply": "2022-06-15T13:33:22.609273Z"
    },
    "papermill": {
     "duration": 0.049448,
     "end_time": "2022-06-15T13:33:22.612823",
     "exception": false,
     "start_time": "2022-06-15T13:33:22.563375",
     "status": "completed"
    },
    "tags": []
   },
   "outputs": [],
   "source": [
    "# method n2 to remove punctuation\n",
    "#tok2 = tok\n",
    "#tok = list(filter(lambda tok: tok not in string.punctuation, tok))\n",
    "#tok2"
   ]
  },
  {
   "cell_type": "code",
   "execution_count": 29,
   "id": "54d8fcd6",
   "metadata": {
    "execution": {
     "iopub.execute_input": "2022-06-15T13:33:22.693953Z",
     "iopub.status.busy": "2022-06-15T13:33:22.693648Z",
     "iopub.status.idle": "2022-06-15T13:33:22.700586Z",
     "shell.execute_reply": "2022-06-15T13:33:22.699515Z"
    },
    "papermill": {
     "duration": 0.05177,
     "end_time": "2022-06-15T13:33:22.703027",
     "exception": false,
     "start_time": "2022-06-15T13:33:22.651257",
     "status": "completed"
    },
    "tags": []
   },
   "outputs": [],
   "source": [
    "t_conserv = \" \"\n",
    "for text in test3:     # convert from column texts to string\n",
    "    t_conserv+=str(text)"
   ]
  },
  {
   "cell_type": "code",
   "execution_count": 30,
   "id": "efecbefb",
   "metadata": {
    "execution": {
     "iopub.execute_input": "2022-06-15T13:33:22.780968Z",
     "iopub.status.busy": "2022-06-15T13:33:22.780700Z",
     "iopub.status.idle": "2022-06-15T13:33:22.791742Z",
     "shell.execute_reply": "2022-06-15T13:33:22.791092Z"
    },
    "papermill": {
     "duration": 0.052013,
     "end_time": "2022-06-15T13:33:22.793422",
     "exception": false,
     "start_time": "2022-06-15T13:33:22.741409",
     "status": "completed"
    },
    "tags": []
   },
   "outputs": [],
   "source": [
    "t_conserv = t_conserv.lower()"
   ]
  },
  {
   "cell_type": "code",
   "execution_count": 31,
   "id": "284f0d00",
   "metadata": {
    "execution": {
     "iopub.execute_input": "2022-06-15T13:33:22.892795Z",
     "iopub.status.busy": "2022-06-15T13:33:22.892506Z",
     "iopub.status.idle": "2022-06-15T13:33:22.925444Z",
     "shell.execute_reply": "2022-06-15T13:33:22.924556Z"
    },
    "papermill": {
     "duration": 0.095173,
     "end_time": "2022-06-15T13:33:22.928043",
     "exception": false,
     "start_time": "2022-06-15T13:33:22.832870",
     "status": "completed"
    },
    "tags": []
   },
   "outputs": [],
   "source": [
    "import re\n",
    "t_conserv = re.sub(r'\\d+', '', t_conserv)"
   ]
  },
  {
   "cell_type": "code",
   "execution_count": 32,
   "id": "846c17ec",
   "metadata": {
    "execution": {
     "iopub.execute_input": "2022-06-15T13:33:23.014531Z",
     "iopub.status.busy": "2022-06-15T13:33:23.014255Z",
     "iopub.status.idle": "2022-06-15T13:33:23.095725Z",
     "shell.execute_reply": "2022-06-15T13:33:23.094796Z"
    },
    "papermill": {
     "duration": 0.124323,
     "end_time": "2022-06-15T13:33:23.097867",
     "exception": false,
     "start_time": "2022-06-15T13:33:22.973544",
     "status": "completed"
    },
    "tags": []
   },
   "outputs": [],
   "source": [
    "import string\n",
    "t_conserv = t_conserv.translate(str.maketrans(\"\",\"\", string.punctuation))"
   ]
  },
  {
   "cell_type": "code",
   "execution_count": 33,
   "id": "933f59e2",
   "metadata": {
    "execution": {
     "iopub.execute_input": "2022-06-15T13:33:23.177516Z",
     "iopub.status.busy": "2022-06-15T13:33:23.176885Z",
     "iopub.status.idle": "2022-06-15T13:33:23.793305Z",
     "shell.execute_reply": "2022-06-15T13:33:23.792240Z"
    },
    "papermill": {
     "duration": 0.659605,
     "end_time": "2022-06-15T13:33:23.795701",
     "exception": false,
     "start_time": "2022-06-15T13:33:23.136096",
     "status": "completed"
    },
    "tags": []
   },
   "outputs": [],
   "source": [
    "tokc = word_tokenize(t_conserv)"
   ]
  },
  {
   "cell_type": "code",
   "execution_count": 34,
   "id": "1240238a",
   "metadata": {
    "execution": {
     "iopub.execute_input": "2022-06-15T13:33:23.879451Z",
     "iopub.status.busy": "2022-06-15T13:33:23.878758Z",
     "iopub.status.idle": "2022-06-15T13:33:24.730080Z",
     "shell.execute_reply": "2022-06-15T13:33:24.729340Z"
    },
    "papermill": {
     "duration": 0.895613,
     "end_time": "2022-06-15T13:33:24.732514",
     "exception": false,
     "start_time": "2022-06-15T13:33:23.836901",
     "status": "completed"
    },
    "tags": []
   },
   "outputs": [],
   "source": [
    "from nltk.corpus import stopwords\n",
    "s_words = stopwords.words('english')\n",
    "\n",
    "my_words=['th','would', 'https', '’', '”', '“', \"’\", '’']\n",
    "s_words.extend(my_words)\n",
    "\n",
    "tokc = word_tokenize(t_conserv)\n",
    "result1 = [c for c in tokc if not c in s_words]"
   ]
  },
  {
   "cell_type": "code",
   "execution_count": 35,
   "id": "502cbb90",
   "metadata": {
    "execution": {
     "iopub.execute_input": "2022-06-15T13:33:24.814362Z",
     "iopub.status.busy": "2022-06-15T13:33:24.814101Z",
     "iopub.status.idle": "2022-06-15T13:33:24.874214Z",
     "shell.execute_reply": "2022-06-15T13:33:24.873081Z"
    },
    "papermill": {
     "duration": 0.106209,
     "end_time": "2022-06-15T13:33:24.877160",
     "exception": false,
     "start_time": "2022-06-15T13:33:24.770951",
     "status": "completed"
    },
    "scrolled": true,
    "tags": []
   },
   "outputs": [
    {
     "data": {
      "text/plain": [
       "[('people', 708),\n",
       " ('like', 415),\n",
       " ('government', 359),\n",
       " ('one', 320),\n",
       " ('us', 290),\n",
       " ('think', 278),\n",
       " ('get', 270),\n",
       " ('dont', 244),\n",
       " ('even', 241),\n",
       " ('capitalism', 236)]"
      ]
     },
     "execution_count": 35,
     "metadata": {},
     "output_type": "execute_result"
    }
   ],
   "source": [
    "fdist1 = FreqDist(result1)\n",
    "fdist1 = fdist1.most_common(10)\n",
    "fdist1"
   ]
  },
  {
   "cell_type": "code",
   "execution_count": 36,
   "id": "e6e04ae3",
   "metadata": {
    "execution": {
     "iopub.execute_input": "2022-06-15T13:33:24.962178Z",
     "iopub.status.busy": "2022-06-15T13:33:24.961893Z",
     "iopub.status.idle": "2022-06-15T13:33:25.059565Z",
     "shell.execute_reply": "2022-06-15T13:33:25.058950Z"
    },
    "papermill": {
     "duration": 0.140861,
     "end_time": "2022-06-15T13:33:25.061501",
     "exception": false,
     "start_time": "2022-06-15T13:33:24.920640",
     "status": "completed"
    },
    "tags": []
   },
   "outputs": [
    {
     "data": {
      "text/plain": [
       "[(('free', 'market'), 56),\n",
       " (('minimum', 'wage'), 47),\n",
       " (('united', 'states'), 31),\n",
       " (('things', 'like'), 27),\n",
       " (('many', 'people'), 27),\n",
       " (('dont', 'know'), 24),\n",
       " (('seems', 'like'), 21),\n",
       " (('private', 'property'), 21),\n",
       " (('dont', 'want'), 20),\n",
       " (('middle', 'class'), 18)]"
      ]
     },
     "execution_count": 36,
     "metadata": {},
     "output_type": "execute_result"
    }
   ],
   "source": [
    "bgs1 = nltk.bigrams(result1)\n",
    "fdist_bgs1 = nltk.FreqDist(bgs1)\n",
    "fdist_bgs1.most_common(10)"
   ]
  },
  {
   "cell_type": "code",
   "execution_count": 37,
   "id": "6c81769a",
   "metadata": {
    "execution": {
     "iopub.execute_input": "2022-06-15T13:33:25.140025Z",
     "iopub.status.busy": "2022-06-15T13:33:25.139730Z",
     "iopub.status.idle": "2022-06-15T13:33:25.228798Z",
     "shell.execute_reply": "2022-06-15T13:33:25.227927Z"
    },
    "papermill": {
     "duration": 0.130404,
     "end_time": "2022-06-15T13:33:25.231056",
     "exception": false,
     "start_time": "2022-06-15T13:33:25.100652",
     "status": "completed"
    },
    "tags": []
   },
   "outputs": [
    {
     "data": {
      "text/plain": [
       "41"
      ]
     },
     "execution_count": 37,
     "metadata": {},
     "output_type": "execute_result"
    }
   ],
   "source": [
    "# conservatives mentioning capitalism \n",
    "\n",
    "fdist = FreqDist(tokc)\n",
    "vocab = fdist.keys()\n",
    "fdist['biden']"
   ]
  },
  {
   "cell_type": "code",
   "execution_count": 38,
   "id": "7afdc7f9",
   "metadata": {
    "execution": {
     "iopub.execute_input": "2022-06-15T13:33:25.310289Z",
     "iopub.status.busy": "2022-06-15T13:33:25.309501Z",
     "iopub.status.idle": "2022-06-15T13:33:26.001803Z",
     "shell.execute_reply": "2022-06-15T13:33:26.000803Z"
    },
    "papermill": {
     "duration": 0.733955,
     "end_time": "2022-06-15T13:33:26.004456",
     "exception": false,
     "start_time": "2022-06-15T13:33:25.270501",
     "status": "completed"
    },
    "tags": []
   },
   "outputs": [
    {
     "name": "stdout",
     "output_type": "stream",
     "text": [
      "0.08423891682332069\n"
     ]
    }
   ],
   "source": [
    "from textblob import TextBlob\n",
    "tb = TextBlob(t_conserv)\n",
    "print(tb.sentiment.polarity)"
   ]
  },
  {
   "cell_type": "code",
   "execution_count": 39,
   "id": "663f89f3",
   "metadata": {
    "execution": {
     "iopub.execute_input": "2022-06-15T13:33:26.085096Z",
     "iopub.status.busy": "2022-06-15T13:33:26.084288Z",
     "iopub.status.idle": "2022-06-15T13:33:30.017169Z",
     "shell.execute_reply": "2022-06-15T13:33:30.016345Z"
    },
    "papermill": {
     "duration": 3.975983,
     "end_time": "2022-06-15T13:33:30.019402",
     "exception": false,
     "start_time": "2022-06-15T13:33:26.043419",
     "status": "completed"
    },
    "tags": []
   },
   "outputs": [],
   "source": [
    "# tagged parts of speech\n",
    "taggedc = nltk.pos_tag(result1)"
   ]
  },
  {
   "cell_type": "code",
   "execution_count": 40,
   "id": "6673207d",
   "metadata": {
    "execution": {
     "iopub.execute_input": "2022-06-15T13:33:30.098604Z",
     "iopub.status.busy": "2022-06-15T13:33:30.098317Z",
     "iopub.status.idle": "2022-06-15T13:33:30.163968Z",
     "shell.execute_reply": "2022-06-15T13:33:30.163030Z"
    },
    "papermill": {
     "duration": 0.108817,
     "end_time": "2022-06-15T13:33:30.166560",
     "exception": false,
     "start_time": "2022-06-15T13:33:30.057743",
     "status": "completed"
    },
    "tags": []
   },
   "outputs": [
    {
     "data": {
      "text/plain": [
       "[(('people', 'NNS'), 708),\n",
       " (('like', 'IN'), 410),\n",
       " (('government', 'NN'), 359),\n",
       " (('one', 'CD'), 318),\n",
       " (('us', 'PRP'), 290),\n",
       " (('even', 'RB'), 240),\n",
       " (('capitalism', 'NN'), 227),\n",
       " (('money', 'NN'), 224),\n",
       " (('think', 'VBP'), 221),\n",
       " (('could', 'MD'), 215),\n",
       " (('also', 'RB'), 207),\n",
       " (('state', 'NN'), 203)]"
      ]
     },
     "execution_count": 40,
     "metadata": {},
     "output_type": "execute_result"
    }
   ],
   "source": [
    "fdisc = FreqDist(taggedc)\n",
    "fdisc = fdisc.most_common(12)\n",
    "fdisc"
   ]
  },
  {
   "cell_type": "code",
   "execution_count": 41,
   "id": "83c2d0dd",
   "metadata": {
    "execution": {
     "iopub.execute_input": "2022-06-15T13:33:30.247449Z",
     "iopub.status.busy": "2022-06-15T13:33:30.247168Z",
     "iopub.status.idle": "2022-06-15T13:33:30.335952Z",
     "shell.execute_reply": "2022-06-15T13:33:30.335067Z"
    },
    "papermill": {
     "duration": 0.131112,
     "end_time": "2022-06-15T13:33:30.337906",
     "exception": false,
     "start_time": "2022-06-15T13:33:30.206794",
     "status": "completed"
    },
    "tags": []
   },
   "outputs": [
    {
     "data": {
      "text/plain": [
       "[(('free', 'market'), 56),\n",
       " (('minimum', 'wage'), 47),\n",
       " (('united', 'states'), 31),\n",
       " (('things', 'like'), 27),\n",
       " (('many', 'people'), 27),\n",
       " (('dont', 'know'), 24),\n",
       " (('seems', 'like'), 21),\n",
       " (('private', 'property'), 21),\n",
       " (('dont', 'want'), 20),\n",
       " (('middle', 'class'), 18),\n",
       " (('get', 'rid'), 17),\n",
       " (('people', 'dont'), 17),\n",
       " (('goods', 'services'), 17),\n",
       " (('dont', 'think'), 16),\n",
       " (('lets', 'say'), 16)]"
      ]
     },
     "execution_count": 41,
     "metadata": {},
     "output_type": "execute_result"
    }
   ],
   "source": [
    "# bigram\n",
    "\n",
    "bgsc = nltk.bigrams(result1)\n",
    "fdist_bgsc = nltk.FreqDist(bgsc)\n",
    "fdist_bgsc.most_common(15)"
   ]
  },
  {
   "cell_type": "code",
   "execution_count": 42,
   "id": "b8b17a74",
   "metadata": {
    "execution": {
     "iopub.execute_input": "2022-06-15T13:33:30.418252Z",
     "iopub.status.busy": "2022-06-15T13:33:30.417709Z",
     "iopub.status.idle": "2022-06-15T13:33:30.585725Z",
     "shell.execute_reply": "2022-06-15T13:33:30.584950Z"
    },
    "papermill": {
     "duration": 0.210724,
     "end_time": "2022-06-15T13:33:30.587769",
     "exception": false,
     "start_time": "2022-06-15T13:33:30.377045",
     "status": "completed"
    },
    "scrolled": true,
    "tags": []
   },
   "outputs": [
    {
     "data": {
      "text/plain": [
       "[(('it', '’', 's'), 93),\n",
       " (('a', 'lot', 'of'), 70),\n",
       " (('i', '’', 'm'), 63),\n",
       " (('don', '’', 't'), 58),\n",
       " (('be', 'able', 'to'), 36),\n",
       " (('one', 'of', 'the'), 31),\n",
       " (('to', 'be', 'a'), 29),\n",
       " (('in', 'order', 'to'), 29),\n",
       " (('the', 'united', 'states'), 27),\n",
       " (('there', 'is', 'no'), 26)]"
      ]
     },
     "execution_count": 42,
     "metadata": {},
     "output_type": "execute_result"
    }
   ],
   "source": [
    "# trigram\n",
    "\n",
    "trigc = nltk.trigrams(tokc)\n",
    "fdist_trigc = nltk.FreqDist(trigc)\n",
    "fdist_trigc.most_common(10)"
   ]
  },
  {
   "cell_type": "code",
   "execution_count": 43,
   "id": "08370b51",
   "metadata": {
    "execution": {
     "iopub.execute_input": "2022-06-15T13:33:30.668592Z",
     "iopub.status.busy": "2022-06-15T13:33:30.668328Z",
     "iopub.status.idle": "2022-06-15T13:33:30.716434Z",
     "shell.execute_reply": "2022-06-15T13:33:30.715887Z"
    },
    "papermill": {
     "duration": 0.09121,
     "end_time": "2022-06-15T13:33:30.718413",
     "exception": false,
     "start_time": "2022-06-15T13:33:30.627203",
     "status": "completed"
    },
    "tags": []
   },
   "outputs": [
    {
     "data": {
      "text/plain": [
       "[('NN', 23615),\n",
       " ('JJ', 13781),\n",
       " ('NNS', 9004),\n",
       " ('VBP', 4629),\n",
       " ('RB', 4585),\n",
       " ('VBG', 3142),\n",
       " ('VBD', 2643),\n",
       " ('VBN', 1618),\n",
       " ('VB', 1528),\n",
       " ('VBZ', 1497),\n",
       " ('IN', 1380),\n",
       " ('CD', 603),\n",
       " ('MD', 461),\n",
       " ('JJR', 335),\n",
       " ('PRP', 301),\n",
       " ('DT', 252),\n",
       " ('JJS', 246),\n",
       " ('NNP', 235),\n",
       " ('RBR', 194),\n",
       " ('FW', 105)]"
      ]
     },
     "execution_count": 43,
     "metadata": {},
     "output_type": "execute_result"
    }
   ],
   "source": [
    "tag_fd1 = nltk.FreqDist(tag for (word, tag) in taggedc)\n",
    "tag_fd1.most_common(20)"
   ]
  }
 ],
 "metadata": {
  "kernelspec": {
   "display_name": "Python 3",
   "language": "python",
   "name": "python3"
  },
  "language_info": {
   "codemirror_mode": {
    "name": "ipython",
    "version": 3
   },
   "file_extension": ".py",
   "mimetype": "text/x-python",
   "name": "python",
   "nbconvert_exporter": "python",
   "pygments_lexer": "ipython3",
   "version": "3.7.12"
  },
  "papermill": {
   "default_parameters": {},
   "duration": 39.877395,
   "end_time": "2022-06-15T13:33:31.679470",
   "environment_variables": {},
   "exception": null,
   "input_path": "__notebook__.ipynb",
   "output_path": "__notebook__.ipynb",
   "parameters": {},
   "start_time": "2022-06-15T13:32:51.802075",
   "version": "2.3.4"
  }
 },
 "nbformat": 4,
 "nbformat_minor": 5
}
